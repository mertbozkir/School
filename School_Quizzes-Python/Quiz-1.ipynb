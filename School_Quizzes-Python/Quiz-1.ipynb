{
 "cells": [
  {
   "cell_type": "markdown",
   "metadata": {},
   "source": [
    "Kullanıcıdan 3 tane il plaka kodunu alarak eğer 16 girilmiş ise Bursa, 17 girilmiş ise Çanakkale, 34 girilmiş ise İstanbul yazacak kodu Python dilinde \"if\" koşul yapısını kullanarak kodlayınız.\n",
    "\n",
    "Bu quizde tek soru vardır ve süre 15 dakikadır. Python kodunuzu bilgisayarınızdaki herhangi bir python editöründe yazıp cevabı aşağıya yapıştırabilirsiniz."
   ]
  },
  {
   "cell_type": "code",
   "execution_count": null,
   "metadata": {
    "scrolled": true
   },
   "outputs": [],
   "source": [
    "a = int(input(\"Birinci il plakasi\"))\n",
    "b = int(input(\"ikinci il plakasi\"))\n",
    "c = int(input(\"ucuncu il plakasi\"))\n",
    "\n",
    "if a==16:\n",
    "    print(\"1. Bursa \")\n",
    "elif a==17:\n",
    "    print(\"1. Canakkale\")\n",
    "elif a == 34:\n",
    "    print(\"1. istanbul\")\n",
    "else:\n",
    "    print(\"1.ye  farkli plaka girdiniz..\")\n",
    "\n",
    "\n",
    "if b==16:\n",
    "    print(\"2. Bursa \")\n",
    "elif b==17:\n",
    "    print(\"2. Canakkale\")\n",
    "elif b == 34:\n",
    "    print(\"2. istanbul\")\n",
    "else:\n",
    "    print(\"2.ye  farkli plaka girdiniz..\")\n",
    "if c==16:\n",
    "    print(\"3. Bursa \")\n",
    "elif c==17:\n",
    "    print(\"3. Canakkale\")\n",
    "elif c == 34:\n",
    "    print(\"3. istanbul\")\n",
    "else:\n",
    "    print(\"3. ye farkli plaka girdiniz..\")"
   ]
  }
 ],
 "metadata": {
  "kernelspec": {
   "display_name": "Python 3",
   "language": "python",
   "name": "python3"
  },
  "language_info": {
   "codemirror_mode": {
    "name": "ipython",
    "version": 3
   },
   "file_extension": ".py",
   "mimetype": "text/x-python",
   "name": "python",
   "nbconvert_exporter": "python",
   "pygments_lexer": "ipython3",
   "version": "3.9.1"
  }
 },
 "nbformat": 4,
 "nbformat_minor": 4
}
