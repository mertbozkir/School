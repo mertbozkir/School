{
 "cells": [
  {
   "cell_type": "markdown",
   "metadata": {},
   "source": [
    "Python'da liste yapılarını kullanarak 5 adet il adı içeren bir liste oluşturunuz.\n",
    "\n",
    "Sonra bu illerin ilk 2 ve son 2 karakterini ekrana basacak bir döngü yazınız. Örneğin il adı \"İstanbul\" ise ekrana \"İsul\" yazacak. 5 ilin her biri için bunu yapacaktır."
   ]
  },
  {
   "cell_type": "code",
   "execution_count": null,
   "metadata": {},
   "outputs": [],
   "source": [
    "iller = [\"İstanbul\", \"Niğde\", \"Nevşehir\", \"Kayseri\", \"Adıyaman\"]\n",
    "for i in iller:\n",
    "    a= list(i)\n",
    "    \n",
    "    c = a[0:2] \n",
    "    a.reverse()\n",
    "    d = a[0:2]\n",
    "    d.reverse()\n",
    "    result = ''.join([str(eleman) for eleman in c+d])\n",
    "    print(result)"
   ]
  }
 ],
 "metadata": {
  "kernelspec": {
   "display_name": "Python 3",
   "language": "python",
   "name": "python3"
  },
  "language_info": {
   "codemirror_mode": {
    "name": "ipython",
    "version": 3
   },
   "file_extension": ".py",
   "mimetype": "text/x-python",
   "name": "python",
   "nbconvert_exporter": "python",
   "pygments_lexer": "ipython3",
   "version": "3.9.1"
  }
 },
 "nbformat": 4,
 "nbformat_minor": 4
}
