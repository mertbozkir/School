{
 "cells": [
  {
   "cell_type": "markdown",
   "metadata": {},
   "source": [
    "Bu soruyu cevaplamak için 15 Dakikanız vardır.\n",
    "\n",
    "Aşağıdaki şekilde kullanıcının girdiği bir değere göre çarpım tablosu oluşturan programı kodlayınız. \"6\" değeri ÖRNEK olarak verilmiştir. Kullanıcı hangi sayısı girerse o sayı için çarpım tablosu oluşturulacaktır.\n",
    "\n",
    "Döngü kullanılmayan cevaplar sıfır alacaktır. Döngü değişkeni olarak ilk adınızın ilk harfini kullanınız. ilk Adınızın ilk harfi ö,ş,ç,ü ise bunun yerine o,s,c,u harflerini kullanınız. Bu kurala dikkat etmeyen başkasından kopya çekmiş olarak işlem görecektir."
   ]
  },
  {
   "cell_type": "code",
   "execution_count": null,
   "metadata": {},
   "outputs": [],
   "source": [
    "m = int(input(\"Kaclar tablosu yapilacak...\"))\n",
    "a = 0\n",
    "while a<=10:\n",
    "    print(f\"{m} x {a} = {a*m}\")\n",
    "    a+= 1"
   ]
  }
 ],
 "metadata": {
  "kernelspec": {
   "display_name": "Python 3",
   "language": "python",
   "name": "python3"
  },
  "language_info": {
   "codemirror_mode": {
    "name": "ipython",
    "version": 3
   },
   "file_extension": ".py",
   "mimetype": "text/x-python",
   "name": "python",
   "nbconvert_exporter": "python",
   "pygments_lexer": "ipython3",
   "version": "3.9.1"
  }
 },
 "nbformat": 4,
 "nbformat_minor": 4
}
