{
 "cells": [
  {
   "cell_type": "markdown",
   "metadata": {},
   "source": [
    "Kullanıcıdan 2 adet tamsayı bilgi alınacaktır.  Kullanıcının girdiği ilk sayıdan ikinci sayıya kadar aşağıdaki denklemin y değerlerini hesaplayıp ekrana basacak python kodunu yazınız.\n",
    "\n",
    "$$\n",
    " y = x^2 + 3x - 4\n",
    "$$\n",
    "\n",
    "Örnek: Kullanıcı ilk sayı olarak -4 ve ikinci sayı olarak 3 girmişse {-4,-3,-2,-1,0,1,2,3}  tamsayıları için denklemdeki y değerini hesaplayıp her birini ekrana basacaktır.\n",
    "\n",
    "Not: Örnekte yazdığım \"örnek\" tir, sadece -4 ve 3 için çalışacak şekilde yazmayınız. Ben denerken -456536456 ile +9547695476956 arası sayıları da deneyebilirim !!!"
   ]
  },
  {
   "cell_type": "code",
   "execution_count": null,
   "metadata": {},
   "outputs": [],
   "source": [
    "number_one = int(input(\"Birinci sayi: \"))\n",
    "number_two = int(input(\"İkinci sayi: \"))\n",
    "\n",
    "def y(x):\n",
    "    print((x**2)+(3*x)-4)\n",
    "\n",
    "print(\"\\nAşağıda cevaplar bulunmaktadır..\\n\\n\")\n",
    "\n",
    "for i in range(number_one, number_two):\n",
    "    y(i)"
   ]
  }
 ],
 "metadata": {
  "kernelspec": {
   "display_name": "Python 3",
   "language": "python",
   "name": "python3"
  },
  "language_info": {
   "codemirror_mode": {
    "name": "ipython",
    "version": 3
   },
   "file_extension": ".py",
   "mimetype": "text/x-python",
   "name": "python",
   "nbconvert_exporter": "python",
   "pygments_lexer": "ipython3",
   "version": "3.9.1"
  }
 },
 "nbformat": 4,
 "nbformat_minor": 4
}
