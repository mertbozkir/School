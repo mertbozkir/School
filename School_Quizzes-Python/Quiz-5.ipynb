{
 "cells": [
  {
   "cell_type": "markdown",
   "metadata": {},
   "source": [
    "Aşağıdaki gibi 5 birim yarıçaplı bir merkez çember verilmiştir. Kullanıcıdan alacağınız x ve y değerlerine karşılık gelen (x,y) noktasının bu çemberin içinde mi dışında mı olduğunu kontrol eden python kodunu yazınız.  \n",
    "\n",
    "<img src = \"https://www.testalemi.com/inc/resize.php?img=/upload/images/7-sinif-matematik-cember-ve-daire/7-sinif-matematik-cember-5.png&w=&h=\">\n",
    "\n",
    "Sadece \"çemberin içindedir\", \"çemberin dışındadır\" ve \"çemberin üzerindedir\" şeklinde çıktı vermesi yeterlidir."
   ]
  },
  {
   "cell_type": "code",
   "execution_count": null,
   "metadata": {},
   "outputs": [],
   "source": [
    "x = int(input(\"x değeri giriniz..\"))\n",
    "y = int(input(\"y değeri giriniz..\"))\n",
    "z = (x^2 + y^2)\n",
    "if z > 25:\n",
    "    print(\"Çemberin dışında\")\n",
    "elif z ==25:\n",
    "    print(\"Çemberin üzerinde\")\n",
    "else: \n",
    "    print(\"Çemberin içinde\")\n",
    "print(z)\n",
    "[15:50]\n"
   ]
  }
 ],
 "metadata": {
  "kernelspec": {
   "display_name": "Python 3",
   "language": "python",
   "name": "python3"
  },
  "language_info": {
   "codemirror_mode": {
    "name": "ipython",
    "version": 3
   },
   "file_extension": ".py",
   "mimetype": "text/x-python",
   "name": "python",
   "nbconvert_exporter": "python",
   "pygments_lexer": "ipython3",
   "version": "3.9.1"
  }
 },
 "nbformat": 4,
 "nbformat_minor": 4
}
