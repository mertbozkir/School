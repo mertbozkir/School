{
 "cells": [
  {
   "cell_type": "markdown",
   "metadata": {},
   "source": [
    "<img src= \"https://www.researchgate.net/profile/Victor_Nistor2/publication/289060164/figure/fig1/AS:364950871658496@1464022476918/The-initial-triangle-ABC-left-the-uniform-refinement-k-05-center-the.png\">\n",
    "\n",
    "a,b,c şeklinde kenar uzunlukları verilen 3 adet sayının bir üçgen oluşturabilmesi için:\n",
    "\n",
    "Bir üçgenin kenarlarından birinin uzunluğu; diğer iki kenarının uzunlukları toplamından küçük,uzunlukları farkının mutlak değerinden büyüktür.\n",
    "\n",
    "şartını sağlaması gerekir.\n",
    "\n",
    "Aşağıda verilen Python kodunda bu işi yapan \"ucgenmi\" fonksiyonunu yazınız. \n",
    "\n",
    "Not: Fonksiyon şeklinde yapılmayan çözümler sıfır alır.\n",
    "\n",
    "-------------------------\n",
    "\n",
    "a=int(input(\"a değeri:\"))\n",
    "\n",
    "b=int(input(\"b değeri:\"))\n",
    "\n",
    "c=int(input(\"c değeri:\"))\n",
    "\n",
    "ucgenmi(a,b,c)\n",
    "\n",
    "-------------------------"
   ]
  },
  {
   "cell_type": "code",
   "execution_count": null,
   "metadata": {},
   "outputs": [],
   "source": [
    "a=int(input(\"a değeri:\"))\n",
    "b=int(input(\"b değeri:\"))\n",
    "c=int(input(\"c değeri:\"))\n",
    "def ucgenmi(a,b,c,d=True):\n",
    "    if a > abs(b-c) and a < b + c:\n",
    "        pass\n",
    "    else: \n",
    "        d = False\n",
    "    if b > abs(a-c) and b < a + c:\n",
    "        pass\n",
    "    else: \n",
    "        d = False\n",
    "    if c > abs(a-b) and c < a + b:\n",
    "        pass\n",
    "    else: \n",
    "        d = False \n",
    "    if d == True:\n",
    "        print(\"Üçgendir\")\n",
    "    else: \n",
    "        print(\"üçgen değildir\")\n",
    "        \n",
    "ucgenmi(a,b,c)"
   ]
  }
 ],
 "metadata": {
  "kernelspec": {
   "display_name": "Python 3",
   "language": "python",
   "name": "python3"
  },
  "language_info": {
   "codemirror_mode": {
    "name": "ipython",
    "version": 3
   },
   "file_extension": ".py",
   "mimetype": "text/x-python",
   "name": "python",
   "nbconvert_exporter": "python",
   "pygments_lexer": "ipython3",
   "version": "3.9.1"
  }
 },
 "nbformat": 4,
 "nbformat_minor": 4
}
